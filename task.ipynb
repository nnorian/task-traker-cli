{
 "cells": [
  {
   "cell_type": "markdown",
   "id": "87a5ef50",
   "metadata": {},
   "source": [
    "creating the ison file that will store data about our tasks \"tasks.json\""
   ]
  },
  {
   "cell_type": "code",
   "execution_count": null,
   "id": "ae9e4f74",
   "metadata": {},
   "outputs": [],
   "source": [
    "import json\n",
    "import os\n",
    "import sys\n",
    "working_file = \"task.json\"\n",
    "from datetime import datetime\n",
    "\n",
    "\n",
    "def init_storage():\n",
    "    if not os.path.exists(working_file):\n",
    "        with open(working_file, \"w\") as file:\n",
    "            json.dump([], file)\n",
    "            #writes an empty list to the file \n",
    "\n",
    "# load the tasks that are already in the json file \n",
    "def load_tasks():\n",
    "    with open(working_file, \"r\") as file:\n",
    "        return json.load(file)\n",
    "\n",
    "# save the tasks to the json file\n",
    "def save_tasks(tasks):\n",
    "    with open(working_file, \"w\") as file:\n",
    "        json.dump(tasks, file, indent = 4)\n",
    "        # ident is added for the specing of the json file so it will be more fuman readable \n",
    "\n",
    "\n"
   ]
  },
  {
   "cell_type": "code",
   "execution_count": null,
   "id": "53b8c2dc",
   "metadata": {},
   "outputs": [],
   "source": [
    "def add_task(description):\n",
    "    tasks = load_tasks()\n",
    "    task_id = len(tasks)+ 1\n",
    "    # not sure if thats the correct way but the other one is too complex and unreadable \n",
    "    task = {\n",
    "        \"id\": task_id,\n",
    "        \"description\": description,\n",
    "        \"status\": \"todo\",\n",
    "        \"created_at\": now,\n",
    "        \"updated_at\": now    \n",
    "    }\n",
    "\n",
    "    tasks.append(task)\n",
    "    save_tasks(tasks)\n",
    "    #saves the task done and adds it to the bulk that is to be updated to the file \n",
    "    print(f\"task added{task_id}: {description}\")\n",
    "    "
   ]
  },
  {
   "cell_type": "markdown",
   "id": "b10f183d",
   "metadata": {},
   "source": [
    "functions that:\n",
    "1. add - done\n",
    "2. update\n",
    "3. delete\n",
    "4. mark as in progress or done\n",
    "5. list all\n",
    "6. list all done\n",
    "7. list all not done\n",
    "8. list tasks that are in progress\n"
   ]
  },
  {
   "cell_type": "code",
   "execution_count": null,
   "id": "67c7629e",
   "metadata": {},
   "outputs": [],
   "source": [
    "# list all the tasks as no filter by status is applied\n",
    "def list__tasks(status_filter = None):\n",
    "    tasks = load_tasks()\n",
    "    #here i can potentially add a filter by the status but i am too lazy\n",
    "    for task in tasks:\n",
    "        print(f\"{task[\"id\"]}: \")"
   ]
  },
  {
   "cell_type": "code",
   "execution_count": null,
   "id": "a150d468",
   "metadata": {},
   "outputs": [
    {
     "ename": "SyntaxError",
     "evalue": "incomplete input (12697257.py, line 31)",
     "output_type": "error",
     "traceback": [
      "\u001b[1;36m  Cell \u001b[1;32mIn[2], line 31\u001b[1;36m\u001b[0m\n\u001b[1;33m    \u001b[0m\n\u001b[1;37m    ^\u001b[0m\n\u001b[1;31mSyntaxError\u001b[0m\u001b[1;31m:\u001b[0m incomplete input\n"
     ]
    }
   ],
   "source": [
    "if __name__ == \"__main__\":\n",
    "    init_storage()\n",
    "    args = sys.argv[1:]\n",
    "    #args for unprevisible number of arguments while writing the cli promp\n",
    "    #reads what is in the commmand line\n",
    "    if not args:\n",
    "        print(\"no command provided\")\n",
    "        sys.exit(1) \n",
    "    # means error\n",
    "    #sys.exit(0) means success\n",
    "\n",
    "    cmd = args[0]\n",
    "\n",
    "    if cmd == \"add\":\n",
    "        add_task(args[1])\n",
    "    elif cmd == \"update\":\n",
    "        update_task(int(args[1], args[2]))\n",
    "    elif cmd == \"delete\":\n",
    "        delete_task(int(args[1]))\n",
    "    elif cmd == \"mark-in-progress\":\n",
    "        mark_status(int(args[1]), \"in-progress\")\n",
    "    elif cmd == \"mark-done\":\n",
    "        mark_status(int(args[1]), \"done\")\n",
    "    #no to-do status because it it givem by default when introducing a task in the traker \n",
    "    elif cmd == \"list\":\n",
    "        if len(args) ==2:\n",
    "            list_tasks(args[1])\n",
    "            #the status of the tasks that are asked to be listed are passed as an argument\n",
    "        else:\n",
    "            list_tasks()\n",
    "            #if no status is mentioned it prints everything \n",
    "    else:\n",
    "        print(\"error in interpreting your command\")\n",
    "\n"
   ]
  }
 ],
 "metadata": {
  "kernelspec": {
   "display_name": "base",
   "language": "python",
   "name": "python3"
  },
  "language_info": {
   "codemirror_mode": {
    "name": "ipython",
    "version": 3
   },
   "file_extension": ".py",
   "mimetype": "text/x-python",
   "name": "python",
   "nbconvert_exporter": "python",
   "pygments_lexer": "ipython3",
   "version": "3.12.4"
  }
 },
 "nbformat": 4,
 "nbformat_minor": 5
}
